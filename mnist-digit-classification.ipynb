{
 "cells": [
  {
   "cell_type": "code",
   "execution_count": 1,
   "id": "05ee65d5",
   "metadata": {
    "_cell_guid": "b1076dfc-b9ad-4769-8c92-a6c4dae69d19",
    "_uuid": "8f2839f25d086af736a60e9eeb907d3b93b6e0e5",
    "execution": {
     "iopub.execute_input": "2024-03-12T09:13:59.893595Z",
     "iopub.status.busy": "2024-03-12T09:13:59.892963Z",
     "iopub.status.idle": "2024-03-12T09:14:00.661732Z",
     "shell.execute_reply": "2024-03-12T09:14:00.660553Z"
    },
    "papermill": {
     "duration": 0.779172,
     "end_time": "2024-03-12T09:14:00.664176",
     "exception": false,
     "start_time": "2024-03-12T09:13:59.885004",
     "status": "completed"
    },
    "tags": []
   },
   "outputs": [],
   "source": [
    "# This Python 3 environment comes with many helpful analytics libraries installed\n",
    "# It is defined by the kaggle/python Docker image: https://github.com/kaggle/docker-python\n",
    "# For example, here's several helpful packages to load\n",
    "\n",
    "import numpy as np # linear algebra\n",
    "import pandas as pd # data processing, CSV file I/O (e.g. pd.read_csv)\n",
    "\n",
    "# Input data files are available in the read-only \"../input/\" directory\n",
    "# For example, running this (by clicking run or pressing Shift+Enter) will list all files under the input directory\n",
    "\n",
    "import os\n",
    "# You can write up to 20GB to the current directory (/kaggle/working/) that gets preserved as output when you create a version using \"Save & Run All\" \n",
    "# You can also write temporary files to /kaggle/temp/, but they won't be saved outside of the current session"
   ]
  },
  {
   "cell_type": "markdown",
   "id": "642248c2",
   "metadata": {
    "papermill": {
     "duration": 0.005828,
     "end_time": "2024-03-12T09:14:00.676704",
     "exception": false,
     "start_time": "2024-03-12T09:14:00.670876",
     "status": "completed"
    },
    "tags": []
   },
   "source": [
    "## Importing necessary libraries"
   ]
  },
  {
   "cell_type": "code",
   "execution_count": 2,
   "id": "4f215832",
   "metadata": {
    "execution": {
     "iopub.execute_input": "2024-03-12T09:14:00.690248Z",
     "iopub.status.busy": "2024-03-12T09:14:00.689811Z",
     "iopub.status.idle": "2024-03-12T09:14:13.911250Z",
     "shell.execute_reply": "2024-03-12T09:14:13.910090Z"
    },
    "papermill": {
     "duration": 13.231157,
     "end_time": "2024-03-12T09:14:13.913779",
     "exception": false,
     "start_time": "2024-03-12T09:14:00.682622",
     "status": "completed"
    },
    "tags": []
   },
   "outputs": [
    {
     "name": "stderr",
     "output_type": "stream",
     "text": [
      "2024-03-12 09:14:02.605598: E external/local_xla/xla/stream_executor/cuda/cuda_dnn.cc:9261] Unable to register cuDNN factory: Attempting to register factory for plugin cuDNN when one has already been registered\n",
      "2024-03-12 09:14:02.605729: E external/local_xla/xla/stream_executor/cuda/cuda_fft.cc:607] Unable to register cuFFT factory: Attempting to register factory for plugin cuFFT when one has already been registered\n",
      "2024-03-12 09:14:02.755598: E external/local_xla/xla/stream_executor/cuda/cuda_blas.cc:1515] Unable to register cuBLAS factory: Attempting to register factory for plugin cuBLAS when one has already been registered\n"
     ]
    }
   ],
   "source": [
    "import tensorflow as tf\n",
    "from tensorflow import keras\n",
    "from tensorflow.keras import layers\n",
    "import matplotlib.pyplot as plt\n",
    "import seaborn as sns"
   ]
  },
  {
   "cell_type": "markdown",
   "id": "cf8836a4",
   "metadata": {
    "papermill": {
     "duration": 0.005839,
     "end_time": "2024-03-12T09:14:13.925777",
     "exception": false,
     "start_time": "2024-03-12T09:14:13.919938",
     "status": "completed"
    },
    "tags": []
   },
   "source": [
    "## Loading and Preprocessing the data"
   ]
  },
  {
   "cell_type": "code",
   "execution_count": 3,
   "id": "05a053fa",
   "metadata": {
    "execution": {
     "iopub.execute_input": "2024-03-12T09:14:13.939699Z",
     "iopub.status.busy": "2024-03-12T09:14:13.939046Z",
     "iopub.status.idle": "2024-03-12T09:14:13.944516Z",
     "shell.execute_reply": "2024-03-12T09:14:13.943314Z"
    },
    "papermill": {
     "duration": 0.014797,
     "end_time": "2024-03-12T09:14:13.946524",
     "exception": false,
     "start_time": "2024-03-12T09:14:13.931727",
     "status": "completed"
    },
    "tags": []
   },
   "outputs": [],
   "source": [
    "data=tf.keras.datasets.mnist"
   ]
  },
  {
   "cell_type": "code",
   "execution_count": 4,
   "id": "0494b273",
   "metadata": {
    "execution": {
     "iopub.execute_input": "2024-03-12T09:14:13.960007Z",
     "iopub.status.busy": "2024-03-12T09:14:13.959684Z",
     "iopub.status.idle": "2024-03-12T09:14:14.291252Z",
     "shell.execute_reply": "2024-03-12T09:14:14.290391Z"
    },
    "papermill": {
     "duration": 0.34083,
     "end_time": "2024-03-12T09:14:14.293483",
     "exception": false,
     "start_time": "2024-03-12T09:14:13.952653",
     "status": "completed"
    },
    "tags": []
   },
   "outputs": [
    {
     "name": "stdout",
     "output_type": "stream",
     "text": [
      "Downloading data from https://storage.googleapis.com/tensorflow/tf-keras-datasets/mnist.npz\n",
      "11490434/11490434 [==============================] - 0s 0us/step\n"
     ]
    }
   ],
   "source": [
    "(x_train,y_train),(x_test,y_test)=data.load_data()"
   ]
  },
  {
   "cell_type": "code",
   "execution_count": 5,
   "id": "127daa0f",
   "metadata": {
    "execution": {
     "iopub.execute_input": "2024-03-12T09:14:14.306970Z",
     "iopub.status.busy": "2024-03-12T09:14:14.306636Z",
     "iopub.status.idle": "2024-03-12T09:14:14.315319Z",
     "shell.execute_reply": "2024-03-12T09:14:14.313983Z"
    },
    "papermill": {
     "duration": 0.018177,
     "end_time": "2024-03-12T09:14:14.317851",
     "exception": false,
     "start_time": "2024-03-12T09:14:14.299674",
     "status": "completed"
    },
    "tags": []
   },
   "outputs": [
    {
     "data": {
      "text/plain": [
       "((60000, 28, 28), (10000, 28, 28), (60000,), (10000,))"
      ]
     },
     "execution_count": 5,
     "metadata": {},
     "output_type": "execute_result"
    }
   ],
   "source": [
    "x_train.shape,x_test.shape,y_train.shape,y_test.shape"
   ]
  },
  {
   "cell_type": "code",
   "execution_count": 6,
   "id": "874fbe5d",
   "metadata": {
    "execution": {
     "iopub.execute_input": "2024-03-12T09:14:14.333106Z",
     "iopub.status.busy": "2024-03-12T09:14:14.332725Z",
     "iopub.status.idle": "2024-03-12T09:14:14.337439Z",
     "shell.execute_reply": "2024-03-12T09:14:14.336490Z"
    },
    "papermill": {
     "duration": 0.01487,
     "end_time": "2024-03-12T09:14:14.339286",
     "exception": false,
     "start_time": "2024-03-12T09:14:14.324416",
     "status": "completed"
    },
    "tags": []
   },
   "outputs": [],
   "source": [
    "img_width=180\n",
    "img_height=180"
   ]
  },
  {
   "cell_type": "markdown",
   "id": "642c6142",
   "metadata": {
    "papermill": {
     "duration": 0.005999,
     "end_time": "2024-03-12T09:14:14.351936",
     "exception": false,
     "start_time": "2024-03-12T09:14:14.345937",
     "status": "completed"
    },
    "tags": []
   },
   "source": [
    "## Visualizing the Datset"
   ]
  },
  {
   "cell_type": "code",
   "execution_count": 7,
   "id": "e273eca5",
   "metadata": {
    "execution": {
     "iopub.execute_input": "2024-03-12T09:14:14.366191Z",
     "iopub.status.busy": "2024-03-12T09:14:14.365852Z",
     "iopub.status.idle": "2024-03-12T09:14:14.986171Z",
     "shell.execute_reply": "2024-03-12T09:14:14.984919Z"
    },
    "papermill": {
     "duration": 0.63001,
     "end_time": "2024-03-12T09:14:14.988396",
     "exception": false,
     "start_time": "2024-03-12T09:14:14.358386",
     "status": "completed"
    },
    "tags": []
   },
   "outputs": [
    {
     "data": {
      "image/png": "[encoded data removed]",
      "text/plain": [
       "<Figure size 1000x1000 with 9 Axes>"
      ]
     },
     "metadata": {},
     "output_type": "display_data"
    }
   ],
   "source": [
    "plt.figure(figsize=(10,10))\n",
    "for i in range(9):\n",
    "    plt.subplot(3,3,i+1)\n",
    "    plt.imshow(x_train[i])\n",
    "    plt.title(y_train[i])\n",
    "    plt.axis('off')"
   ]
  },
  {
   "cell_type": "markdown",
   "id": "6e71b145",
   "metadata": {
    "execution": {
     "iopub.execute_input": "2024-03-10T19:01:44.884562Z",
     "iopub.status.busy": "2024-03-10T19:01:44.884198Z",
     "iopub.status.idle": "2024-03-10T19:01:44.889857Z",
     "shell.execute_reply": "2024-03-10T19:01:44.889066Z",
     "shell.execute_reply.started": "2024-03-10T19:01:44.884535Z"
    },
    "papermill": {
     "duration": 0.006308,
     "end_time": "2024-03-12T09:14:15.001377",
     "exception": false,
     "start_time": "2024-03-12T09:14:14.995069",
     "status": "completed"
    },
    "tags": []
   },
   "source": [
    "### Normalizing the data"
   ]
  },
  {
   "cell_type": "code",
   "execution_count": 8,
   "id": "f6ba83e9",
   "metadata": {
    "execution": {
     "iopub.execute_input": "2024-03-12T09:14:15.015771Z",
     "iopub.status.busy": "2024-03-12T09:14:15.015408Z",
     "iopub.status.idle": "2024-03-12T09:14:15.021076Z",
     "shell.execute_reply": "2024-03-12T09:14:15.019738Z"
    },
    "papermill": {
     "duration": 0.015015,
     "end_time": "2024-03-12T09:14:15.022891",
     "exception": false,
     "start_time": "2024-03-12T09:14:15.007876",
     "status": "completed"
    },
    "tags": []
   },
   "outputs": [],
   "source": [
    "x_train=x_train.reshape((x_train.shape[0],28,28))\n",
    "x_test=x_test.reshape((x_test.shape[0],28,28))"
   ]
  },
  {
   "cell_type": "code",
   "execution_count": 9,
   "id": "6d62195b",
   "metadata": {
    "execution": {
     "iopub.execute_input": "2024-03-12T09:14:15.037728Z",
     "iopub.status.busy": "2024-03-12T09:14:15.037351Z",
     "iopub.status.idle": "2024-03-12T09:14:15.069641Z",
     "shell.execute_reply": "2024-03-12T09:14:15.068747Z"
    },
    "papermill": {
     "duration": 0.041741,
     "end_time": "2024-03-12T09:14:15.071617",
     "exception": false,
     "start_time": "2024-03-12T09:14:15.029876",
     "status": "completed"
    },
    "tags": []
   },
   "outputs": [],
   "source": [
    "x_train=x_train.astype('float32')\n",
    "x_test=x_test.astype('float32')"
   ]
  },
  {
   "cell_type": "code",
   "execution_count": 10,
   "id": "58bf6477",
   "metadata": {
    "execution": {
     "iopub.execute_input": "2024-03-12T09:14:15.086005Z",
     "iopub.status.busy": "2024-03-12T09:14:15.085699Z",
     "iopub.status.idle": "2024-03-12T09:14:15.259394Z",
     "shell.execute_reply": "2024-03-12T09:14:15.258032Z"
    },
    "papermill": {
     "duration": 0.183371,
     "end_time": "2024-03-12T09:14:15.261678",
     "exception": false,
     "start_time": "2024-03-12T09:14:15.078307",
     "status": "completed"
    },
    "tags": []
   },
   "outputs": [],
   "source": [
    "import numpy as np\n",
    "x_train=np.stack((x_train,)*3,axis=-1)\n",
    "x_test=np.stack((x_test,)*3,axis=-1)"
   ]
  },
  {
   "cell_type": "code",
   "execution_count": 11,
   "id": "509dc1e7",
   "metadata": {
    "execution": {
     "iopub.execute_input": "2024-03-12T09:14:15.276442Z",
     "iopub.status.busy": "2024-03-12T09:14:15.276090Z",
     "iopub.status.idle": "2024-03-12T09:14:15.282591Z",
     "shell.execute_reply": "2024-03-12T09:14:15.281282Z"
    },
    "papermill": {
     "duration": 0.016621,
     "end_time": "2024-03-12T09:14:15.284986",
     "exception": false,
     "start_time": "2024-03-12T09:14:15.268365",
     "status": "completed"
    },
    "tags": []
   },
   "outputs": [],
   "source": [
    "from tensorflow.keras.preprocessing.image import ImageDataGenerator\n",
    "datagen = ImageDataGenerator(\n",
    "    rescale=1./255,\n",
    "    rotation_range=15,\n",
    "    width_shift_range=0.1,\n",
    "    height_shift_range=0.1,\n",
    "    fill_mode='nearest')"
   ]
  },
  {
   "cell_type": "markdown",
   "id": "c7059541",
   "metadata": {
    "execution": {
     "iopub.execute_input": "2024-03-10T19:02:20.066801Z",
     "iopub.status.busy": "2024-03-10T19:02:20.065653Z",
     "iopub.status.idle": "2024-03-10T19:02:20.071893Z",
     "shell.execute_reply": "2024-03-10T19:02:20.070748Z",
     "shell.execute_reply.started": "2024-03-10T19:02:20.066754Z"
    },
    "papermill": {
     "duration": 0.006994,
     "end_time": "2024-03-12T09:14:15.298922",
     "exception": false,
     "start_time": "2024-03-12T09:14:15.291928",
     "status": "completed"
    },
    "tags": []
   },
   "source": [
    "## Applying the CNN model"
   ]
  },
  {
   "cell_type": "code",
   "execution_count": 12,
   "id": "cda81ae7",
   "metadata": {
    "execution": {
     "iopub.execute_input": "2024-03-12T09:14:15.314049Z",
     "iopub.status.busy": "2024-03-12T09:14:15.313005Z",
     "iopub.status.idle": "2024-03-12T09:14:15.319101Z",
     "shell.execute_reply": "2024-03-12T09:14:15.317817Z"
    },
    "papermill": {
     "duration": 0.016062,
     "end_time": "2024-03-12T09:14:15.321410",
     "exception": false,
     "start_time": "2024-03-12T09:14:15.305348",
     "status": "completed"
    },
    "tags": []
   },
   "outputs": [],
   "source": [
    "from tensorflow.keras.applications.resnet50 import ResNet50"
   ]
  },
  {
   "cell_type": "code",
   "execution_count": 13,
   "id": "68d3266c",
   "metadata": {
    "execution": {
     "iopub.execute_input": "2024-03-12T09:14:15.335957Z",
     "iopub.status.busy": "2024-03-12T09:14:15.335661Z",
     "iopub.status.idle": "2024-03-12T09:14:17.995167Z",
     "shell.execute_reply": "2024-03-12T09:14:17.994024Z"
    },
    "papermill": {
     "duration": 2.669292,
     "end_time": "2024-03-12T09:14:17.997542",
     "exception": false,
     "start_time": "2024-03-12T09:14:15.328250",
     "status": "completed"
    },
    "tags": []
   },
   "outputs": [
    {
     "name": "stdout",
     "output_type": "stream",
     "text": [
      "Downloading data from https://storage.googleapis.com/tensorflow/keras-applications/resnet/resnet50_weights_tf_dim_ordering_tf_kernels_notop.h5\n",
      "94765736/94765736 [==============================] - 1s 0us/step\n"
     ]
    }
   ],
   "source": [
    "Res=ResNet50(include_top=False,weights='imagenet',pooling='max')"
   ]
  },
  {
   "cell_type": "code",
   "execution_count": 14,
   "id": "1e3ef001",
   "metadata": {
    "execution": {
     "iopub.execute_input": "2024-03-12T09:14:18.013661Z",
     "iopub.status.busy": "2024-03-12T09:14:18.013239Z",
     "iopub.status.idle": "2024-03-12T09:14:18.021173Z",
     "shell.execute_reply": "2024-03-12T09:14:18.020410Z"
    },
    "papermill": {
     "duration": 0.017981,
     "end_time": "2024-03-12T09:14:18.022959",
     "exception": false,
     "start_time": "2024-03-12T09:14:18.004978",
     "status": "completed"
    },
    "tags": []
   },
   "outputs": [],
   "source": [
    "model = tf.keras.Sequential()\n",
    "    "
   ]
  },
  {
   "cell_type": "code",
   "execution_count": 15,
   "id": "30349b22",
   "metadata": {
    "execution": {
     "iopub.execute_input": "2024-03-12T09:14:18.039833Z",
     "iopub.status.busy": "2024-03-12T09:14:18.038981Z",
     "iopub.status.idle": "2024-03-12T09:14:18.507013Z",
     "shell.execute_reply": "2024-03-12T09:14:18.506081Z"
    },
    "papermill": {
     "duration": 0.478607,
     "end_time": "2024-03-12T09:14:18.509130",
     "exception": false,
     "start_time": "2024-03-12T09:14:18.030523",
     "status": "completed"
    },
    "tags": []
   },
   "outputs": [],
   "source": [
    "model.add(Res)"
   ]
  },
  {
   "cell_type": "code",
   "execution_count": 16,
   "id": "6f0703d3",
   "metadata": {
    "execution": {
     "iopub.execute_input": "2024-03-12T09:14:18.524993Z",
     "iopub.status.busy": "2024-03-12T09:14:18.524635Z",
     "iopub.status.idle": "2024-03-12T09:14:18.576270Z",
     "shell.execute_reply": "2024-03-12T09:14:18.575555Z"
    },
    "papermill": {
     "duration": 0.062017,
     "end_time": "2024-03-12T09:14:18.578495",
     "exception": false,
     "start_time": "2024-03-12T09:14:18.516478",
     "status": "completed"
    },
    "tags": []
   },
   "outputs": [],
   "source": [
    "model.add(layers.Dense(256,activation='relu'))\n",
    "model.add(layers.Dense(128,activation='relu'))\n",
    "model.add(layers.Dense(64,activation='relu'))\n",
    "model.add(layers.Dense(10,activation='softmax'))"
   ]
  },
  {
   "cell_type": "code",
   "execution_count": 17,
   "id": "2f6bcc67",
   "metadata": {
    "execution": {
     "iopub.execute_input": "2024-03-12T09:14:18.595246Z",
     "iopub.status.busy": "2024-03-12T09:14:18.594420Z",
     "iopub.status.idle": "2024-03-12T09:14:18.604144Z",
     "shell.execute_reply": "2024-03-12T09:14:18.603085Z"
    },
    "papermill": {
     "duration": 0.020642,
     "end_time": "2024-03-12T09:14:18.606618",
     "exception": false,
     "start_time": "2024-03-12T09:14:18.585976",
     "status": "completed"
    },
    "tags": []
   },
   "outputs": [],
   "source": [
    "model.layers[0].trainable=False"
   ]
  },
  {
   "cell_type": "code",
   "execution_count": 18,
   "id": "2894580e",
   "metadata": {
    "execution": {
     "iopub.execute_input": "2024-03-12T09:14:18.623355Z",
     "iopub.status.busy": "2024-03-12T09:14:18.622489Z",
     "iopub.status.idle": "2024-03-12T09:14:18.657464Z",
     "shell.execute_reply": "2024-03-12T09:14:18.655687Z"
    },
    "papermill": {
     "duration": 0.04543,
     "end_time": "2024-03-12T09:14:18.659499",
     "exception": false,
     "start_time": "2024-03-12T09:14:18.614069",
     "status": "completed"
    },
    "tags": []
   },
   "outputs": [
    {
     "name": "stdout",
     "output_type": "stream",
     "text": [
      "Model: \"sequential\"\n",
      "_________________________________________________________________\n",
      " Layer (type)                Output Shape              Param #   \n",
      "=================================================================\n",
      " resnet50 (Functional)       (None, 2048)              23587712  \n",
      "                                                                 \n",
      " dense (Dense)               (None, 256)               524544    \n",
      "                                                                 \n",
      " dense_1 (Dense)             (None, 128)               32896     \n",
      "                                                                 \n",
      " dense_2 (Dense)             (None, 64)                8256      \n",
      "                                                                 \n",
      " dense_3 (Dense)             (None, 10)                650       \n",
      "                                                                 \n",
      "=================================================================\n",
      "Total params: 24154058 (92.14 MB)\n",
      "Trainable params: 566346 (2.16 MB)\n",
      "Non-trainable params: 23587712 (89.98 MB)\n",
      "_________________________________________________________________\n"
     ]
    }
   ],
   "source": [
    "model.summary()"
   ]
  },
  {
   "cell_type": "code",
   "execution_count": 19,
   "id": "fda4afe5",
   "metadata": {
    "execution": {
     "iopub.execute_input": "2024-03-12T09:14:18.678645Z",
     "iopub.status.busy": "2024-03-12T09:14:18.678298Z",
     "iopub.status.idle": "2024-03-12T09:14:18.700184Z",
     "shell.execute_reply": "2024-03-12T09:14:18.699111Z"
    },
    "papermill": {
     "duration": 0.033978,
     "end_time": "2024-03-12T09:14:18.702413",
     "exception": false,
     "start_time": "2024-03-12T09:14:18.668435",
     "status": "completed"
    },
    "tags": []
   },
   "outputs": [],
   "source": [
    "model.compile(optimizer='adam',loss=tf.keras.losses.SparseCategoricalCrossentropy(),metrics='accuracy')"
   ]
  },
  {
   "cell_type": "code",
   "execution_count": 20,
   "id": "92b54d32",
   "metadata": {
    "execution": {
     "iopub.execute_input": "2024-03-12T09:14:18.721065Z",
     "iopub.status.busy": "2024-03-12T09:14:18.720736Z",
     "iopub.status.idle": "2024-03-12T10:12:22.560311Z",
     "shell.execute_reply": "2024-03-12T10:12:22.559202Z"
    },
    "papermill": {
     "duration": 3483.851936,
     "end_time": "2024-03-12T10:12:22.562866",
     "exception": false,
     "start_time": "2024-03-12T09:14:18.710930",
     "status": "completed"
    },
    "scrolled": true,
    "tags": []
   },
   "outputs": [
    {
     "name": "stdout",
     "output_type": "stream",
     "text": [
      "Epoch 1/30\n",
      "468/468 [==============================] - 85s 175ms/step - loss: 1.0706 - accuracy: 0.6398\n",
      "Epoch 2/30\n",
      "468/468 [==============================] - 81s 173ms/step - loss: 0.6703 - accuracy: 0.7749\n",
      "Epoch 3/30\n",
      "468/468 [==============================] - 79s 167ms/step - loss: 0.5586 - accuracy: 0.8141\n",
      "Epoch 4/30\n",
      "468/468 [==============================] - 82s 175ms/step - loss: 0.5029 - accuracy: 0.8322\n",
      "Epoch 5/30\n",
      "468/468 [==============================] - 83s 177ms/step - loss: 0.4532 - accuracy: 0.8497\n",
      "Epoch 6/30\n",
      "468/468 [==============================] - 82s 175ms/step - loss: 0.4317 - accuracy: 0.8565\n",
      "Epoch 7/30\n",
      "468/468 [==============================] - 82s 176ms/step - loss: 0.4102 - accuracy: 0.8645\n",
      "Epoch 8/30\n",
      "468/468 [==============================] - 82s 175ms/step - loss: 0.3931 - accuracy: 0.8701\n",
      "Epoch 9/30\n",
      "468/468 [==============================] - 83s 177ms/step - loss: 0.3735 - accuracy: 0.8779\n",
      "Epoch 10/30\n",
      "468/468 [==============================] - 81s 173ms/step - loss: 0.3601 - accuracy: 0.8805\n",
      "Epoch 11/30\n",
      "468/468 [==============================] - 82s 174ms/step - loss: 0.3498 - accuracy: 0.8844\n",
      "Epoch 12/30\n",
      "468/468 [==============================] - 81s 174ms/step - loss: 0.3438 - accuracy: 0.8873\n",
      "Epoch 13/30\n",
      "468/468 [==============================] - 82s 175ms/step - loss: 0.3271 - accuracy: 0.8922\n",
      "Epoch 14/30\n",
      "468/468 [==============================] - 83s 177ms/step - loss: 0.3210 - accuracy: 0.8945\n",
      "Epoch 15/30\n",
      "468/468 [==============================] - 83s 177ms/step - loss: 0.3171 - accuracy: 0.8947\n",
      "Epoch 16/30\n",
      "468/468 [==============================] - 84s 179ms/step - loss: 0.3107 - accuracy: 0.8981\n",
      "Epoch 17/30\n",
      "468/468 [==============================] - 83s 177ms/step - loss: 0.3022 - accuracy: 0.9002\n",
      "Epoch 18/30\n",
      "468/468 [==============================] - 82s 176ms/step - loss: 0.2974 - accuracy: 0.9018\n",
      "Epoch 19/30\n",
      "468/468 [==============================] - 82s 174ms/step - loss: 0.2886 - accuracy: 0.9066\n",
      "Epoch 20/30\n",
      "468/468 [==============================] - 83s 177ms/step - loss: 0.2914 - accuracy: 0.9038\n",
      "Epoch 21/30\n",
      "468/468 [==============================] - 83s 176ms/step - loss: 0.2802 - accuracy: 0.9073\n",
      "Epoch 22/30\n",
      "468/468 [==============================] - 83s 176ms/step - loss: 0.2767 - accuracy: 0.9088\n",
      "Epoch 23/30\n",
      "468/468 [==============================] - 82s 174ms/step - loss: 0.2723 - accuracy: 0.9099\n",
      "Epoch 24/30\n",
      "468/468 [==============================] - 81s 174ms/step - loss: 0.2692 - accuracy: 0.9112\n",
      "Epoch 25/30\n",
      "468/468 [==============================] - 81s 172ms/step - loss: 0.2592 - accuracy: 0.9145\n",
      "Epoch 26/30\n",
      "468/468 [==============================] - 84s 179ms/step - loss: 0.2713 - accuracy: 0.9116\n",
      "Epoch 27/30\n",
      "468/468 [==============================] - 83s 176ms/step - loss: 0.2675 - accuracy: 0.9119\n",
      "Epoch 28/30\n",
      "468/468 [==============================] - 82s 176ms/step - loss: 0.2634 - accuracy: 0.9137\n",
      "Epoch 29/30\n",
      "468/468 [==============================] - 83s 176ms/step - loss: 0.2534 - accuracy: 0.9160\n",
      "Epoch 30/30\n",
      "468/468 [==============================] - 83s 177ms/step - loss: 0.2517 - accuracy: 0.9166\n"
     ]
    }
   ],
   "source": [
    "history = model.fit(datagen.flow(x_train, y_train, batch_size=128),\n",
    "                    steps_per_epoch=len(x_train) / 128, \n",
    "                    epochs=30,\n",
    "                    verbose=1,\n",
    "                    callbacks=[tf.keras.callbacks.EarlyStopping(patience=5)])"
   ]
  },
  {
   "cell_type": "code",
   "execution_count": 21,
   "id": "339c5881",
   "metadata": {
    "execution": {
     "iopub.execute_input": "2024-03-12T10:12:24.222397Z",
     "iopub.status.busy": "2024-03-12T10:12:24.222069Z",
     "iopub.status.idle": "2024-03-12T10:12:45.996343Z",
     "shell.execute_reply": "2024-03-12T10:12:45.995387Z"
    },
    "papermill": {
     "duration": 22.60682,
     "end_time": "2024-03-12T10:12:45.998253",
     "exception": false,
     "start_time": "2024-03-12T10:12:23.391433",
     "status": "completed"
    },
    "tags": []
   },
   "outputs": [
    {
     "name": "stdout",
     "output_type": "stream",
     "text": [
      "79/79 [==============================] - 15s 175ms/step - loss: 0.2256 - accuracy: 0.9240\n"
     ]
    },
    {
     "data": {
      "text/plain": [
       "[0.22561994194984436, 0.9240000247955322]"
      ]
     },
     "execution_count": 21,
     "metadata": {},
     "output_type": "execute_result"
    }
   ],
   "source": [
    "model.evaluate(datagen.flow(x_test, y_test, batch_size=128),\n",
    "                    verbose=1,\n",
    "                    callbacks=[tf.keras.callbacks.EarlyStopping(patience=5)])"
   ]
  },
  {
   "cell_type": "code",
   "execution_count": 22,
   "id": "b88e8931",
   "metadata": {
    "execution": {
     "iopub.execute_input": "2024-03-12T10:12:47.794485Z",
     "iopub.status.busy": "2024-03-12T10:12:47.793759Z",
     "iopub.status.idle": "2024-03-12T10:12:47.799158Z",
     "shell.execute_reply": "2024-03-12T10:12:47.798548Z"
    },
    "papermill": {
     "duration": 0.906848,
     "end_time": "2024-03-12T10:12:47.800729",
     "exception": false,
     "start_time": "2024-03-12T10:12:46.893881",
     "status": "completed"
    },
    "tags": []
   },
   "outputs": [
    {
     "data": {
      "text/plain": [
       "(60000, 28, 28, 3)"
      ]
     },
     "execution_count": 22,
     "metadata": {},
     "output_type": "execute_result"
    }
   ],
   "source": [
    "x_train.shape"
   ]
  },
  {
   "cell_type": "code",
   "execution_count": 23,
   "id": "5a91c54d",
   "metadata": {
    "execution": {
     "iopub.execute_input": "2024-03-12T10:12:49.542698Z",
     "iopub.status.busy": "2024-03-12T10:12:49.542060Z",
     "iopub.status.idle": "2024-03-12T10:13:09.221336Z",
     "shell.execute_reply": "2024-03-12T10:13:09.219910Z"
    },
    "papermill": {
     "duration": 20.584201,
     "end_time": "2024-03-12T10:13:09.223867",
     "exception": false,
     "start_time": "2024-03-12T10:12:48.639666",
     "status": "completed"
    },
    "tags": []
   },
   "outputs": [
    {
     "name": "stdout",
     "output_type": "stream",
     "text": [
      "313/313 [==============================] - 19s 59ms/step\n"
     ]
    }
   ],
   "source": [
    "pred=model.predict(x_test/255)"
   ]
  },
  {
   "cell_type": "code",
   "execution_count": 24,
   "id": "a20fbb6c",
   "metadata": {
    "execution": {
     "iopub.execute_input": "2024-03-12T10:13:11.025083Z",
     "iopub.status.busy": "2024-03-12T10:13:11.024665Z",
     "iopub.status.idle": "2024-03-12T10:13:12.882696Z",
     "shell.execute_reply": "2024-03-12T10:13:12.881365Z"
    },
    "papermill": {
     "duration": 2.793822,
     "end_time": "2024-03-12T10:13:12.885225",
     "exception": false,
     "start_time": "2024-03-12T10:13:10.091403",
     "status": "completed"
    },
    "tags": []
   },
   "outputs": [
    {
     "data": {
      "image/png": "[encoded data removed]",
      "text/plain": [
       "<Figure size 1000x1000 with 40 Axes>"
      ]
     },
     "metadata": {},
     "output_type": "display_data"
    }
   ],
   "source": [
    "import pandas as pd\n",
    "plt.figure(figsize=(10,10))\n",
    "for i in range(40):\n",
    "    plt.subplot(5,8,i+1)\n",
    "    plt.imshow(x_test[i])\n",
    "    plt.title(pd.Series(pred[i]).idxmax())\n",
    "    plt.axis('off')\n",
    "    "
   ]
  },
  {
   "cell_type": "code",
   "execution_count": null,
   "id": "1c32928f",
   "metadata": {
    "papermill": {
     "duration": 0.923931,
     "end_time": "2024-03-12T10:13:14.657756",
     "exception": false,
     "start_time": "2024-03-12T10:13:13.733825",
     "status": "completed"
    },
    "tags": []
   },
   "outputs": [],
   "source": []
  }
 ],
 "metadata": {
  "kaggle": {
   "accelerator": "none",
   "dataSources": [],
   "dockerImageVersionId": 30648,
   "isGpuEnabled": false,
   "isInternetEnabled": true,
   "language": "python",
   "sourceType": "notebook"
  },
  "kernelspec": {
   "display_name": "Python 3",
   "language": "python",
   "name": "python3"
  },
  "language_info": {
   "codemirror_mode": {
    "name": "ipython",
    "version": 3
   },
   "file_extension": ".py",
   "mimetype": "text/x-python",
   "name": "python",
   "nbconvert_exporter": "python",
   "pygments_lexer": "ipython3",
   "version": "3.10.13"
  },
  "papermill": {
   "default_parameters": {},
   "duration": 3559.866842,
   "end_time": "2024-03-12T10:13:17.456639",
   "environment_variables": {},
   "exception": null,
   "input_path": "__notebook__.ipynb",
   "output_path": "__notebook__.ipynb",
   "parameters": {},
   "start_time": "2024-03-12T09:13:57.589797",
   "version": "2.5.0"
  }
 },
 "nbformat": 4,
 "nbformat_minor": 5
}
